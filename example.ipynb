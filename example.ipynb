{
 "cells": [
  {
   "cell_type": "code",
   "execution_count": null,
   "metadata": {
    "colab": {},
    "colab_type": "code",
    "id": "3G3I83imljpy"
   },
   "outputs": [],
   "source": [
    "import sys\n",
    "import os\n",
    "import torch\n",
    "from torch import nn\n",
    "from torch.utils.data import DataLoader\n",
    "import numpy as np\n",
    "import pandas as pd"
   ]
  },
  {
   "cell_type": "code",
   "execution_count": null,
   "metadata": {},
   "outputs": [],
   "source": [
    "# Set runningOnColab = True if you are running this a google colab session.\n",
    "runningOnColab = False\n",
    "\n",
    "if runningOnColab:\n",
    "    from google.colab import drive\n",
    "    drive.mount('/content/drive')\n",
    "    sys.path.append('drive/My Drive/electricity_fraud_detection')"
   ]
  },
  {
   "cell_type": "code",
   "execution_count": null,
   "metadata": {
    "colab": {},
    "colab_type": "code",
    "id": "Gxw6UJibkUK2"
   },
   "outputs": [],
   "source": [
    "from data import download_data, get_processed_dataset\n",
    "from model import CNNModel\n",
    "from train import perform_kfold_cv\n",
    "from radam import RAdam"
   ]
  },
  {
   "cell_type": "code",
   "execution_count": null,
   "metadata": {
    "colab": {},
    "colab_type": "code",
    "id": "f8s3PEqBlE_j"
   },
   "outputs": [],
   "source": [
    "downloadAndProcess = False\n",
    "\n",
    "if downloadAndProcess:\n",
    "    download_data()\n",
    "    df = get_processed_dataset('data.csv')\n",
    "    df.to_csv('dataprocessed.csv')\n",
    "\n",
    "\n",
    "df = pd.read_csv('dataprocessed.csv', index_col=0)\n",
    "df.head()"
   ]
  },
  {
   "cell_type": "code",
   "execution_count": null,
   "metadata": {
    "colab": {
     "base_uri": "https://localhost:8080/",
     "height": 34
    },
    "colab_type": "code",
    "executionInfo": {
     "elapsed": 10482,
     "status": "ok",
     "timestamp": 1579171655569,
     "user": {
      "displayName": "Israel Campiotti",
      "photoUrl": "",
      "userId": "18435112011576696114"
     },
     "user_tz": 180
    },
    "id": "D89bJooalqoR",
    "outputId": "48cdc3f0-faf1-4d51-8aa2-f7e753370065"
   },
   "outputs": [],
   "source": [
    "device = 'cuda' if torch.cuda.is_available() else 'cpu'\n",
    "print(f'Using {device}')"
   ]
  },
  {
   "cell_type": "code",
   "execution_count": null,
   "metadata": {
    "colab": {
     "base_uri": "https://localhost:8080/",
     "height": 50
    },
    "colab_type": "code",
    "executionInfo": {
     "elapsed": 10343,
     "status": "ok",
     "timestamp": 1579171655570,
     "user": {
      "displayName": "Israel Campiotti",
      "photoUrl": "",
      "userId": "18435112011576696114"
     },
     "user_tz": 180
    },
    "id": "A0b9GFy4lM9r",
    "outputId": "ba89686f-e709-47d8-f44b-e9cc92cd442c"
   },
   "outputs": [],
   "source": [
    "random_state   = 12\n",
    "reproductivity = True\n",
    "\n",
    "if reproductivity:\n",
    "  manualSeed = 13\n",
    "\n",
    "  np.random.seed(manualSeed)\n",
    "  torch.manual_seed(manualSeed)\n",
    "\n",
    "  # If using GPU\n",
    "  if torch.cuda.is_available():\n",
    "    torch.cuda.manual_seed(manualSeed)\n",
    "    torch.cuda.manual_seed_all(manualSeed)\n",
    "\n",
    "  torch.backends.cudnn.enabled = False \n",
    "  torch.backends.cudnn.benchmark = False\n",
    "  torch.backends.cudnn.deterministic = True\n",
    "\n",
    "  print('Reproducing experiment with seed:',manualSeed)\n",
    "  print('Using random state:',random_state)\n",
    "\n",
    "else:\n",
    "  print('Random Experiment')"
   ]
  },
  {
   "cell_type": "code",
   "execution_count": null,
   "metadata": {
    "colab": {},
    "colab_type": "code",
    "id": "WdLQ3YfkmFoT"
   },
   "outputs": [],
   "source": [
    "k_folds = 5\n",
    "lr = 0.001\n",
    "models = [CNNModel().to(device) for _ in range(k_folds)]\n",
    "optims = [RAdam(model.parameters(), lr) for model in models]\n",
    "criterion = nn.CrossEntropyLoss()"
   ]
  },
  {
   "cell_type": "code",
   "execution_count": null,
   "metadata": {
    "colab": {
     "base_uri": "https://localhost:8080/",
     "height": 1000
    },
    "colab_type": "code",
    "executionInfo": {
     "elapsed": 35798,
     "status": "ok",
     "timestamp": 1579171684827,
     "user": {
      "displayName": "Israel Campiotti",
      "photoUrl": "",
      "userId": "18435112011576696114"
     },
     "user_tz": 180
    },
    "id": "xUBxFNI8oVB7",
    "outputId": "32db672d-d2d4-45f6-d0b2-b8fe4b97bf97",
    "scrolled": false
   },
   "outputs": [],
   "source": [
    "f1_per_fold = perform_kfold_cv(df, models, optims, criterion, k_folds, device=device, n_epochs=1)"
   ]
  },
  {
   "cell_type": "code",
   "execution_count": null,
   "metadata": {
    "colab": {
     "base_uri": "https://localhost:8080/",
     "height": 34
    },
    "colab_type": "code",
    "executionInfo": {
     "elapsed": 1047,
     "status": "ok",
     "timestamp": 1579170051749,
     "user": {
      "displayName": "Israel Campiotti",
      "photoUrl": "",
      "userId": "18435112011576696114"
     },
     "user_tz": 180
    },
    "id": "yernKeNNpSij",
    "outputId": "c6d239b1-91e6-4455-8f18-9d527357ad0d"
   },
   "outputs": [],
   "source": [
    "best_fold = f1_per_fold.index(sorted(f1_per_fold, key=lambda x:x[0], reverse=True)[0]) + 1\n",
    "\n",
    "best_f1, best_epoch,_,_ = f1_per_fold[best_fold-1]\n",
    "print(f'The best fold ,was {best_fold} with F1 of {best_f1} at epoch {best_epoch}')"
   ]
  },
  {
   "cell_type": "code",
   "execution_count": null,
   "metadata": {
    "colab": {
     "base_uri": "https://localhost:8080/",
     "height": 34
    },
    "colab_type": "code",
    "executionInfo": {
     "elapsed": 991,
     "status": "ok",
     "timestamp": 1579170055473,
     "user": {
      "displayName": "Israel Campiotti",
      "photoUrl": "",
      "userId": "18435112011576696114"
     },
     "user_tz": 180
    },
    "id": "TXk7fMOIsfsy",
    "outputId": "c56ab9e0-c9c5-4397-f6df-9c44bf09b5c6"
   },
   "outputs": [],
   "source": [
    "model = CNNModel().to(device)\n",
    "model.load_state_dict(torch.load(os.path.join('kfold', f'fold_{best_fold}', f'epoch_{best_epoch}.pth')))"
   ]
  },
  {
   "cell_type": "code",
   "execution_count": null,
   "metadata": {
    "colab": {},
    "colab_type": "code",
    "id": "pg1usw4H3sDm"
   },
   "outputs": [],
   "source": []
  }
 ],
 "metadata": {
  "accelerator": "GPU",
  "colab": {
   "collapsed_sections": [],
   "name": "example.ipynb",
   "provenance": [],
   "toc_visible": true
  },
  "kernelspec": {
   "display_name": "Python 3",
   "language": "python",
   "name": "python3"
  },
  "language_info": {
   "codemirror_mode": {
    "name": "ipython",
    "version": 3
   },
   "file_extension": ".py",
   "mimetype": "text/x-python",
   "name": "python",
   "nbconvert_exporter": "python",
   "pygments_lexer": "ipython3",
   "version": "3.6.5"
  },
  "notify_time": "5",
  "toc": {
   "base_numbering": 1,
   "nav_menu": {},
   "number_sections": true,
   "sideBar": true,
   "skip_h1_title": false,
   "title_cell": "Table of Contents",
   "title_sidebar": "Contents",
   "toc_cell": false,
   "toc_position": {},
   "toc_section_display": true,
   "toc_window_display": false
  }
 },
 "nbformat": 4,
 "nbformat_minor": 1
}
